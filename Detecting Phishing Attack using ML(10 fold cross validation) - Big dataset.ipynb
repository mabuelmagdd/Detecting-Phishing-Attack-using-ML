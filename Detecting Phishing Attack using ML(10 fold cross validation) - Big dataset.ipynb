{
 "cells": [
  {
   "cell_type": "markdown",
   "id": "d3ee8bd1-b76e-4235-800f-1e45be57a815",
   "metadata": {},
   "source": [
    "### CSE 461 - Cybersecurity - Detecting Phishing Attack using ML\n",
    "### Maryam Abuelmagd - 19P7985\n",
    "### Salma Elkhatib - 19P5976\n",
    "### Hana Elmaghraby - 19P8835835"
   ]
  },
  {
   "cell_type": "markdown",
   "id": "f55ee695-96c6-407f-a776-997a2bdea6eb",
   "metadata": {},
   "source": [
    "## Library Imports:\n",
    "-  This part imports the necessary libraries for the code:\n",
    "-  pandas (imported as pd): Used for data manipulation and analysis.\n",
    "-  train_test_split from sklearn.model_selection: Used to split the dataset into training and testing sets.\n",
    "-  RandomForestClassifier from sklearn.ensemble: The random forest classifier implementation.\n",
    "-  accuracy_score and classification_report from sklearn.metrics: Used for evaluating the performance of the machine learning model."
   ]
  },
  {
   "cell_type": "code",
   "execution_count": 1,
   "id": "edb2acaa-f1d3-4f79-b50d-fd2570799409",
   "metadata": {},
   "outputs": [],
   "source": [
    "# Import necessary libraries\n",
    "import pandas as pd\n",
    "from sklearn.model_selection import train_test_split\n",
    "from sklearn.ensemble import RandomForestClassifier\n",
    "from sklearn.model_selection import cross_val_score\n",
    "from sklearn.metrics import accuracy_score, classification_report"
   ]
  },
  {
   "cell_type": "markdown",
   "id": "73622569-643f-4f15-84bf-7d9c01565ef7",
   "metadata": {},
   "source": [
    "## Load Dataset:\n",
    "- This part loads the dataset from a CSV file into a pandas DataFrame (df).\n",
    "- dataset_small.csv"
   ]
  },
  {
   "cell_type": "code",
   "execution_count": 2,
   "id": "7974e670-d4f0-4e6a-8606-493afec29c8f",
   "metadata": {},
   "outputs": [],
   "source": [
    "df = pd.read_csv('dataset_full.csv')"
   ]
  },
  {
   "cell_type": "markdown",
   "id": "acf5db6c-7a47-4b21-b29e-686a1bf1f553",
   "metadata": {},
   "source": [
    "## Separate Features and Target:\n",
    "- dataset has 111 features and a target attribute named 'phishing.\n",
    "- X: Represents the features. The line drops the 'phishing' column using drop along the columns (axis=1).\n",
    "- y: Represents the target variable. It extracts the 'phishing' column."
   ]
  },
  {
   "cell_type": "code",
   "execution_count": 3,
   "id": "e4df5935-18d6-4bdc-a78e-d9ff1ec2f18b",
   "metadata": {},
   "outputs": [],
   "source": [
    "#The dataset has 111 features (X) and the target attribute 'phishing' (y)\n",
    "X = df.drop('phishing', axis=1)  # Drop the target column to get features\n",
    "y = df['phishing']"
   ]
  },
  {
   "cell_type": "markdown",
   "id": "3dafdec9-7599-4c29-8dca-0efe9dcdc132",
   "metadata": {},
   "source": [
    "## Initialize Random Forest Classifier:\n",
    "- This line initializes a random forest classifier with 100 decision trees (n_estimators=100) and sets the random state for reproducibility (random_state=42)."
   ]
  },
  {
   "cell_type": "code",
   "execution_count": 4,
   "id": "f69c5018-0e73-40f1-8373-dc2b1ba2d618",
   "metadata": {},
   "outputs": [],
   "source": [
    "# Initialize the Random Forest classifier\n",
    "rf_classifier = RandomForestClassifier(n_estimators=100, random_state=42)"
   ]
  },
  {
   "cell_type": "markdown",
   "id": "13a4ae24-56e2-49f9-a26c-196e3ec87161",
   "metadata": {},
   "source": [
    "## This line performs 10-fold cross-validation using the scikit-learn library. Let's break down the components:\n",
    "- cross_val_score: This function is part of the scikit-learn library and is used for cross-validated performance evaluation.\n",
    "- rf_classifier: This is your random forest classifier that you previously initialized.\n",
    "- X and y: These are your feature matrix (X) and target variable (y) from your dataset\n",
    "- cv=10: This parameter specifies the number of folds in the cross-validation process. In this case, cv=10 means that the dataset will be split into 10 folds, and the training/testing process will be repeated 10 times\n",
    "- cv_scores: This is a variable that will store the accuracy scores for each fold.\n",
    "## Here's what happens during this line:\n",
    "- Data Splitting: The dataset (X and y) is divided into 10 folds. Each fold is used as a testing set exactly once\n",
    "- Model Training and Testing: The random forest classifier (rf_classifier) is trained and tested 10 times, each time using a different fold as the testing set and the remaining data as the training set.\n",
    "- Accuracy Scores: For each iteration, the accuracy score of the model on the testing set is calculated.\n",
    "- cv_scores Assignment: The accuracy scores for each fold are stored in the cv_scores variable."
   ]
  },
  {
   "cell_type": "code",
   "execution_count": 5,
   "id": "e2c09d71-a1c8-41ca-b697-c86b9a4f19a9",
   "metadata": {},
   "outputs": [],
   "source": [
    "# Perform 10-fold cross-validation\n",
    "cv_scores = cross_val_score(rf_classifier, X, y, cv=10)"
   ]
  },
  {
   "cell_type": "code",
   "execution_count": 6,
   "id": "a08c5133-f1c4-42d7-905b-48f671678ada",
   "metadata": {},
   "outputs": [
    {
     "name": "stdout",
     "output_type": "stream",
     "text": [
      "Cross-validated Accuracy Scores:\n",
      "[0.97202482 0.97326565 0.96807671 0.9714608  0.96728708 0.97123519\n",
      " 0.97191201 0.97439079 0.97258574 0.97258574]\n"
     ]
    }
   ],
   "source": [
    "# Print the cross-validated accuracy scores\n",
    "print(\"Cross-validated Accuracy Scores:\")\n",
    "print(cv_scores)"
   ]
  },
  {
   "cell_type": "markdown",
   "id": "8998d882-e731-4c1e-a1e8-2ab14ece4ca5",
   "metadata": {},
   "source": [
    "## Print the accuracy: \n",
    "- The accuracy in the paper is 97%\n",
    "- This accuracy is achieved here "
   ]
  },
  {
   "cell_type": "code",
   "execution_count": 7,
   "id": "12e658a3-051f-40f6-8444-435090fe6f02",
   "metadata": {},
   "outputs": [
    {
     "name": "stdout",
     "output_type": "stream",
     "text": [
      "\n",
      "Average Accuracy: 0.97\n"
     ]
    }
   ],
   "source": [
    "# print the average accuracy\n",
    "print(f\"\\nAverage Accuracy: {cv_scores.mean():.2f}\")"
   ]
  },
  {
   "cell_type": "code",
   "execution_count": null,
   "id": "b2521676-aa39-492c-a97c-531c171d919a",
   "metadata": {},
   "outputs": [],
   "source": []
  }
 ],
 "metadata": {
  "kernelspec": {
   "display_name": "Python 3 (ipykernel)",
   "language": "python",
   "name": "python3"
  },
  "language_info": {
   "codemirror_mode": {
    "name": "ipython",
    "version": 3
   },
   "file_extension": ".py",
   "mimetype": "text/x-python",
   "name": "python",
   "nbconvert_exporter": "python",
   "pygments_lexer": "ipython3",
   "version": "3.12.1"
  }
 },
 "nbformat": 4,
 "nbformat_minor": 5
}
